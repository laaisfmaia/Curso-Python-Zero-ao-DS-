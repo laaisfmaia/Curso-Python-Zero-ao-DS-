{
 "cells": [
  {
   "cell_type": "markdown",
   "id": "df0945a0",
   "metadata": {},
   "source": [
    "# O problema de négocio - Compra e venda de imóveis\n",
    "\n",
    "### O que a empresa faz?\n",
    "\n",
    "A ***House Rocket*** é uma plataforma digital que tem como modelo de negócio, a compra e a venda de imóveis usando tecnologia.\n",
    "\n",
    "### Qual o problema ela tem que resolver?\n",
    "\n",
    "O CEO da House Rocket gostaria de maximizar a receita da empresa encontrando boas oportunidades de negócio.\n",
    "\n",
    "### Qual a principal estratégia a ser adotada?\n",
    "\n",
    "Sua principal estratégia é comprar boas casas em ótimas localizações com preços baixos e depois revendê-las posteriormente à preços mais altos. Quanto maior a diferença entre a compra e a venda, maior o lucro da empresa e portanto maior sua receita.\n",
    "\n",
    "### Perguntas do CEO:\n",
    "\n",
    "1. Quantas casas estão disponíveis para a compra?\n",
    "2. Quantos atributos as casas possuem?(número de quartos, número de garagens, m2, etc)\n",
    "3. Quais são os atributos?\n",
    "4. Qual a casa mais cara do portfólio?\n",
    "5. Qual a casa com o maior número de quartos?\n",
    "6. Qual a soma total de quartos do conjunto de dados?\n",
    "7. Quantas casas possuem 2 banheiros?\n",
    "8. Qual o preço médio de todas as casas no conjunto de dados?\n",
    "9. Qual o preço médio de casas com 2 banheiros?\n",
    "10. Qual o preço mínimo entre as casas com 3 quartos?\n",
    "11. Quantas casas possuem mais de 300 metros quadrados na sala de estar?\n",
    "12. Quantas casas tem mais de 2 andares?\n",
    "13. Quantas casas tem vista para o mar?\n",
    "14. Das casas com vista para o mar, quantas tem 3 quartos?\n",
    "15. Das casas com mais de 300 metros quadrados de sala de estar, quantas tem mais de 2 banheiros?\n",
    "\n",
    "\n",
    "Os dados para análise são encontrados em: https://www.kaggle.com/harlfoxem/housesalesprediction/version/1?select=kc_house_data.csv"
   ]
  },
  {
   "cell_type": "markdown",
   "id": "48abba58",
   "metadata": {},
   "source": [
    "# Análise dos dados"
   ]
  },
  {
   "cell_type": "code",
   "execution_count": 2,
   "id": "faad5255",
   "metadata": {},
   "outputs": [],
   "source": [
    "import pandas as pd"
   ]
  },
  {
   "cell_type": "code",
   "execution_count": 3,
   "id": "3448bbe5",
   "metadata": {},
   "outputs": [],
   "source": [
    "data = pd.read_csv('datasets/kc_house_data.csv')"
   ]
  },
  {
   "cell_type": "code",
   "execution_count": 4,
   "id": "ba69e3fe",
   "metadata": {},
   "outputs": [
    {
     "data": {
      "text/html": [
       "<div>\n",
       "<style scoped>\n",
       "    .dataframe tbody tr th:only-of-type {\n",
       "        vertical-align: middle;\n",
       "    }\n",
       "\n",
       "    .dataframe tbody tr th {\n",
       "        vertical-align: top;\n",
       "    }\n",
       "\n",
       "    .dataframe thead th {\n",
       "        text-align: right;\n",
       "    }\n",
       "</style>\n",
       "<table border=\"1\" class=\"dataframe\">\n",
       "  <thead>\n",
       "    <tr style=\"text-align: right;\">\n",
       "      <th></th>\n",
       "      <th>id</th>\n",
       "      <th>date</th>\n",
       "      <th>price</th>\n",
       "      <th>bedrooms</th>\n",
       "      <th>bathrooms</th>\n",
       "      <th>sqft_living</th>\n",
       "      <th>sqft_lot</th>\n",
       "      <th>floors</th>\n",
       "      <th>waterfront</th>\n",
       "      <th>view</th>\n",
       "      <th>...</th>\n",
       "      <th>grade</th>\n",
       "      <th>sqft_above</th>\n",
       "      <th>sqft_basement</th>\n",
       "      <th>yr_built</th>\n",
       "      <th>yr_renovated</th>\n",
       "      <th>zipcode</th>\n",
       "      <th>lat</th>\n",
       "      <th>long</th>\n",
       "      <th>sqft_living15</th>\n",
       "      <th>sqft_lot15</th>\n",
       "    </tr>\n",
       "  </thead>\n",
       "  <tbody>\n",
       "    <tr>\n",
       "      <th>0</th>\n",
       "      <td>7129300520</td>\n",
       "      <td>20141013T000000</td>\n",
       "      <td>221900.0</td>\n",
       "      <td>3</td>\n",
       "      <td>1.00</td>\n",
       "      <td>1180</td>\n",
       "      <td>5650</td>\n",
       "      <td>1.0</td>\n",
       "      <td>0</td>\n",
       "      <td>0</td>\n",
       "      <td>...</td>\n",
       "      <td>7</td>\n",
       "      <td>1180</td>\n",
       "      <td>0</td>\n",
       "      <td>1955</td>\n",
       "      <td>0</td>\n",
       "      <td>98178</td>\n",
       "      <td>47.5112</td>\n",
       "      <td>-122.257</td>\n",
       "      <td>1340</td>\n",
       "      <td>5650</td>\n",
       "    </tr>\n",
       "    <tr>\n",
       "      <th>1</th>\n",
       "      <td>6414100192</td>\n",
       "      <td>20141209T000000</td>\n",
       "      <td>538000.0</td>\n",
       "      <td>3</td>\n",
       "      <td>2.25</td>\n",
       "      <td>2570</td>\n",
       "      <td>7242</td>\n",
       "      <td>2.0</td>\n",
       "      <td>0</td>\n",
       "      <td>0</td>\n",
       "      <td>...</td>\n",
       "      <td>7</td>\n",
       "      <td>2170</td>\n",
       "      <td>400</td>\n",
       "      <td>1951</td>\n",
       "      <td>1991</td>\n",
       "      <td>98125</td>\n",
       "      <td>47.7210</td>\n",
       "      <td>-122.319</td>\n",
       "      <td>1690</td>\n",
       "      <td>7639</td>\n",
       "    </tr>\n",
       "    <tr>\n",
       "      <th>2</th>\n",
       "      <td>5631500400</td>\n",
       "      <td>20150225T000000</td>\n",
       "      <td>180000.0</td>\n",
       "      <td>2</td>\n",
       "      <td>1.00</td>\n",
       "      <td>770</td>\n",
       "      <td>10000</td>\n",
       "      <td>1.0</td>\n",
       "      <td>0</td>\n",
       "      <td>0</td>\n",
       "      <td>...</td>\n",
       "      <td>6</td>\n",
       "      <td>770</td>\n",
       "      <td>0</td>\n",
       "      <td>1933</td>\n",
       "      <td>0</td>\n",
       "      <td>98028</td>\n",
       "      <td>47.7379</td>\n",
       "      <td>-122.233</td>\n",
       "      <td>2720</td>\n",
       "      <td>8062</td>\n",
       "    </tr>\n",
       "    <tr>\n",
       "      <th>3</th>\n",
       "      <td>2487200875</td>\n",
       "      <td>20141209T000000</td>\n",
       "      <td>604000.0</td>\n",
       "      <td>4</td>\n",
       "      <td>3.00</td>\n",
       "      <td>1960</td>\n",
       "      <td>5000</td>\n",
       "      <td>1.0</td>\n",
       "      <td>0</td>\n",
       "      <td>0</td>\n",
       "      <td>...</td>\n",
       "      <td>7</td>\n",
       "      <td>1050</td>\n",
       "      <td>910</td>\n",
       "      <td>1965</td>\n",
       "      <td>0</td>\n",
       "      <td>98136</td>\n",
       "      <td>47.5208</td>\n",
       "      <td>-122.393</td>\n",
       "      <td>1360</td>\n",
       "      <td>5000</td>\n",
       "    </tr>\n",
       "    <tr>\n",
       "      <th>4</th>\n",
       "      <td>1954400510</td>\n",
       "      <td>20150218T000000</td>\n",
       "      <td>510000.0</td>\n",
       "      <td>3</td>\n",
       "      <td>2.00</td>\n",
       "      <td>1680</td>\n",
       "      <td>8080</td>\n",
       "      <td>1.0</td>\n",
       "      <td>0</td>\n",
       "      <td>0</td>\n",
       "      <td>...</td>\n",
       "      <td>8</td>\n",
       "      <td>1680</td>\n",
       "      <td>0</td>\n",
       "      <td>1987</td>\n",
       "      <td>0</td>\n",
       "      <td>98074</td>\n",
       "      <td>47.6168</td>\n",
       "      <td>-122.045</td>\n",
       "      <td>1800</td>\n",
       "      <td>7503</td>\n",
       "    </tr>\n",
       "  </tbody>\n",
       "</table>\n",
       "<p>5 rows × 21 columns</p>\n",
       "</div>"
      ],
      "text/plain": [
       "           id             date     price  bedrooms  bathrooms  sqft_living  \\\n",
       "0  7129300520  20141013T000000  221900.0         3       1.00         1180   \n",
       "1  6414100192  20141209T000000  538000.0         3       2.25         2570   \n",
       "2  5631500400  20150225T000000  180000.0         2       1.00          770   \n",
       "3  2487200875  20141209T000000  604000.0         4       3.00         1960   \n",
       "4  1954400510  20150218T000000  510000.0         3       2.00         1680   \n",
       "\n",
       "   sqft_lot  floors  waterfront  view  ...  grade  sqft_above  sqft_basement  \\\n",
       "0      5650     1.0           0     0  ...      7        1180              0   \n",
       "1      7242     2.0           0     0  ...      7        2170            400   \n",
       "2     10000     1.0           0     0  ...      6         770              0   \n",
       "3      5000     1.0           0     0  ...      7        1050            910   \n",
       "4      8080     1.0           0     0  ...      8        1680              0   \n",
       "\n",
       "   yr_built  yr_renovated  zipcode      lat     long  sqft_living15  \\\n",
       "0      1955             0    98178  47.5112 -122.257           1340   \n",
       "1      1951          1991    98125  47.7210 -122.319           1690   \n",
       "2      1933             0    98028  47.7379 -122.233           2720   \n",
       "3      1965             0    98136  47.5208 -122.393           1360   \n",
       "4      1987             0    98074  47.6168 -122.045           1800   \n",
       "\n",
       "   sqft_lot15  \n",
       "0        5650  \n",
       "1        7639  \n",
       "2        8062  \n",
       "3        5000  \n",
       "4        7503  \n",
       "\n",
       "[5 rows x 21 columns]"
      ]
     },
     "execution_count": 4,
     "metadata": {},
     "output_type": "execute_result"
    }
   ],
   "source": [
    "data.head()"
   ]
  },
  {
   "cell_type": "markdown",
   "id": "e90f3475",
   "metadata": {},
   "source": [
    "### 1 - Quantas casas estão disponíveis para a compra?"
   ]
  },
  {
   "cell_type": "code",
   "execution_count": 7,
   "id": "663bc995",
   "metadata": {},
   "outputs": [
    {
     "name": "stdout",
     "output_type": "stream",
     "text": [
      "Estão disponíveis 21436 casas para a compra.\n"
     ]
    }
   ],
   "source": [
    "#1- selecionar a coluna 'id'\n",
    "#2- contar o número de valores únicos\n",
    "\n",
    "e1 = len(data['id'].unique())\n",
    "\n",
    "print(f'Estão disponíveis {e1} casas para a compra.')"
   ]
  },
  {
   "cell_type": "markdown",
   "id": "b6274e1d",
   "metadata": {},
   "source": [
    "### 2 - Quantos atributos as casas possuem?"
   ]
  },
  {
   "cell_type": "code",
   "execution_count": 31,
   "id": "9b7f3979",
   "metadata": {},
   "outputs": [
    {
     "name": "stdout",
     "output_type": "stream",
     "text": [
      "As casas possuem 21 atributos.\n"
     ]
    }
   ],
   "source": [
    "#considerando 'id' e 'date' como atributos:\n",
    "\n",
    "e2 = data.shape[1]\n",
    "\n",
    "print(f'As casas possuem {e2} atributos.')"
   ]
  },
  {
   "cell_type": "code",
   "execution_count": 32,
   "id": "e4a9e8c1",
   "metadata": {},
   "outputs": [
    {
     "name": "stdout",
     "output_type": "stream",
     "text": [
      "As casas possuem 19 atributos.\n"
     ]
    }
   ],
   "source": [
    "#não considerando 'id' e 'date' como atributos:\n",
    "\n",
    "e2 = len(data.drop(['id','date'], axis=1).columns)\n",
    "\n",
    "print(f'As casas possuem {e2} atributos.')"
   ]
  },
  {
   "cell_type": "markdown",
   "id": "b0eef20f",
   "metadata": {},
   "source": [
    "### 3 - Quais são os atributos? (número de quartos, número de garagens, m2, etc)"
   ]
  },
  {
   "cell_type": "code",
   "execution_count": 42,
   "id": "bd6bd310",
   "metadata": {},
   "outputs": [
    {
     "name": "stdout",
     "output_type": "stream",
     "text": [
      "Os atributos das casas são: ['price', 'bedrooms', 'bathrooms', 'sqft_living', 'sqft_lot', 'floors', 'waterfront', 'view', 'condition', 'grade', 'sqft_above', 'sqft_basement', 'yr_built', 'yr_renovated', 'zipcode', 'lat', 'long', 'sqft_living15', 'sqft_lot15']\n"
     ]
    }
   ],
   "source": [
    "e3 = data.drop(['id','date'], axis=1).columns.to_list()\n",
    "\n",
    "print(f'Os atributos das casas são: {e3}')"
   ]
  },
  {
   "cell_type": "markdown",
   "id": "7f8c95cd",
   "metadata": {},
   "source": [
    "### 4 - Qual a casa mais cara do portfólio? "
   ]
  },
  {
   "cell_type": "code",
   "execution_count": 74,
   "id": "2884b7bc",
   "metadata": {},
   "outputs": [
    {
     "name": "stdout",
     "output_type": "stream",
     "text": [
      "A casa mais cara do porfólio é a de índice 6762700020 e tem um valor de 7700000.00\n"
     ]
    }
   ],
   "source": [
    "e4_1 = data[['id','price']].sort_values('price', ascending=False).reset_index( drop= True).loc[0,'id']\n",
    "\n",
    "e4_2 = data['price'].max()\n",
    "\n",
    "print(f'A casa mais cara do porfólio é a de índice {e4_1} e tem um valor de {e4_2:.2f}')"
   ]
  },
  {
   "cell_type": "markdown",
   "id": "04e8cf10",
   "metadata": {},
   "source": [
    "### 5 - Qual a casa com o maior número de quartos?"
   ]
  },
  {
   "cell_type": "code",
   "execution_count": 56,
   "id": "94b36621",
   "metadata": {},
   "outputs": [
    {
     "name": "stdout",
     "output_type": "stream",
     "text": [
      "A casa com maior número de quartos do porfólio é a de índice 2402100895 e ela possui 33 quartos\n"
     ]
    }
   ],
   "source": [
    "e5_1 = data[['id','bedrooms']].sort_values('bedrooms', ascending=False).reset_index( drop= True).loc[0,'id']\n",
    "\n",
    "e5_2 = data['bedrooms'].max()\n",
    "\n",
    "print(f'A casa com maior número de quartos do porfólio é a de índice {e5_1} e ela possui {e5_2} quartos')"
   ]
  },
  {
   "cell_type": "markdown",
   "id": "ec0bb784",
   "metadata": {},
   "source": [
    "### 6 - Qual a soma total de quartos do conjunto de dados?"
   ]
  },
  {
   "cell_type": "code",
   "execution_count": 67,
   "id": "f6495012",
   "metadata": {},
   "outputs": [
    {
     "name": "stdout",
     "output_type": "stream",
     "text": [
      "A soma total de quartos do conjunto de dados é de 72854 quartos.\n"
     ]
    }
   ],
   "source": [
    "e6 = data['bedrooms'].sum()\n",
    "\n",
    "print(f'A soma total de quartos do conjunto de dados é de {e6} quartos.')"
   ]
  },
  {
   "cell_type": "markdown",
   "id": "10352c59",
   "metadata": {},
   "source": [
    "### 7 - Quantas casas possuem 2 banheiros?"
   ]
  },
  {
   "cell_type": "code",
   "execution_count": 68,
   "id": "8e47cbf3",
   "metadata": {},
   "outputs": [
    {
     "name": "stdout",
     "output_type": "stream",
     "text": [
      "O número de casas que possuem 2 banheiros é de 1930 casas.\n"
     ]
    }
   ],
   "source": [
    "e7 = data[data['bathrooms'] == 2].shape[0]\n",
    "\n",
    "print(f'O número de casas que possuem 2 banheiros é de {e7} casas.')"
   ]
  },
  {
   "cell_type": "markdown",
   "id": "cd1f5495",
   "metadata": {},
   "source": [
    "### 8 - Qual o preço médio de todas as casas no conjunto de dados?"
   ]
  },
  {
   "cell_type": "code",
   "execution_count": 73,
   "id": "7866c704",
   "metadata": {},
   "outputs": [
    {
     "name": "stdout",
     "output_type": "stream",
     "text": [
      "O preço médio de todas as casas do conjunto de dados é de 540088.14\n"
     ]
    }
   ],
   "source": [
    "e8 = data['price'].mean()\n",
    "\n",
    "print(f'O preço médio de todas as casas do conjunto de dados é de {e8:.2f}')"
   ]
  },
  {
   "cell_type": "markdown",
   "id": "951529a6",
   "metadata": {},
   "source": [
    "### 9 - Qual o preço médio de casas com 2 banheiros?"
   ]
  },
  {
   "cell_type": "code",
   "execution_count": 79,
   "id": "93817557",
   "metadata": {},
   "outputs": [
    {
     "name": "stdout",
     "output_type": "stream",
     "text": [
      "O preço médio das casas com 2 banheiros é de 457889.72\n"
     ]
    }
   ],
   "source": [
    "e9 = data[data['bathrooms'] == 2]['price'].mean()\n",
    "\n",
    "print(f'O preço médio das casas com 2 banheiros é de {e9:.2f}')"
   ]
  },
  {
   "cell_type": "markdown",
   "id": "3b070d2c",
   "metadata": {},
   "source": [
    "### 10 - Qual o preço mínimo entre as casas com 3 quartos?"
   ]
  },
  {
   "cell_type": "code",
   "execution_count": 85,
   "id": "554e45c2",
   "metadata": {},
   "outputs": [
    {
     "name": "stdout",
     "output_type": "stream",
     "text": [
      "O preço mínimo das casas com 3 quartos é de 82000.00\n"
     ]
    }
   ],
   "source": [
    "e10 = data[data['bedrooms'] == 3]['price'].min()\n",
    "\n",
    "print(f'O preço mínimo das casas com 3 quartos é de {e10:.2f}')"
   ]
  },
  {
   "cell_type": "markdown",
   "id": "207ea7a0",
   "metadata": {},
   "source": [
    "### 11 - Quantas casas possuem mais de 300 metros quadrados na sala de estar?"
   ]
  },
  {
   "cell_type": "code",
   "execution_count": 96,
   "id": "62980daa",
   "metadata": {},
   "outputs": [
    {
     "name": "stdout",
     "output_type": "stream",
     "text": [
      "O número de casas que possuem mais de 300 metros quadrados na sala de estar é de 2258 casas.\n"
     ]
    }
   ],
   "source": [
    "#os dados estão em pés(ft), tem que fazer a transformação para m2\n",
    "\n",
    "data['m2'] = data['sqft_living'] * 0.093\n",
    "\n",
    "e11 = data.loc[data['m2'] >300].shape[0]\n",
    "\n",
    "print(f'O número de casas que possuem mais de 300 metros quadrados na sala de estar é de {e11} casas.')"
   ]
  },
  {
   "cell_type": "markdown",
   "id": "80d7d888",
   "metadata": {},
   "source": [
    "### 12 - Quantas casas tem mais de 2 andares?"
   ]
  },
  {
   "cell_type": "code",
   "execution_count": 101,
   "id": "609993b3",
   "metadata": {},
   "outputs": [
    {
     "name": "stdout",
     "output_type": "stream",
     "text": [
      "O número de casas que possuem mais de 2 andares é de 782 casas.\n"
     ]
    }
   ],
   "source": [
    "e12 = data[data['floors'] > 2].shape[0]\n",
    "\n",
    "print(f'O número de casas que possuem mais de 2 andares é de {e12} casas.')"
   ]
  },
  {
   "cell_type": "markdown",
   "id": "b471fd67",
   "metadata": {},
   "source": [
    "### 13 - Quantas casas tem vista para o mar?"
   ]
  },
  {
   "cell_type": "code",
   "execution_count": 109,
   "id": "25434eb8",
   "metadata": {},
   "outputs": [
    {
     "name": "stdout",
     "output_type": "stream",
     "text": [
      "O número de casas que possuem vista para o mar é de 163 casas.\n"
     ]
    }
   ],
   "source": [
    "e13 = data[data['waterfront'] == 1].shape[0]\n",
    "\n",
    "print(f'O número de casas que possuem vista para o mar é de {e13} casas.')"
   ]
  },
  {
   "cell_type": "markdown",
   "id": "3caf48af",
   "metadata": {},
   "source": [
    "### 14 - Das casas com vista para o mar, quantas tem 3 quartos?"
   ]
  },
  {
   "cell_type": "code",
   "execution_count": 124,
   "id": "e9dde4f3",
   "metadata": {},
   "outputs": [
    {
     "name": "stdout",
     "output_type": "stream",
     "text": [
      "O número de casas que possuem vista para o mar e 3 quartos é de 64 casas.\n"
     ]
    }
   ],
   "source": [
    "e14 = data[(data['waterfront'] == 1) & (data['bedrooms'] == 3)].shape[0]\n",
    "\n",
    "print(f'O número de casas que possuem vista para o mar e 3 quartos é de {e14} casas.')"
   ]
  },
  {
   "cell_type": "markdown",
   "id": "9b174773",
   "metadata": {},
   "source": [
    "### 15 - Das casas com mais de 300 metros quadrados de sala de estar, quantas tem mais de 2 banheiros?"
   ]
  },
  {
   "cell_type": "code",
   "execution_count": 132,
   "id": "6938c9bc",
   "metadata": {},
   "outputs": [
    {
     "name": "stdout",
     "output_type": "stream",
     "text": [
      "O número de casas que possuem mais de 300 metros quadrados de sala de estar e mais de 2 banheiros é de 2201 casas.\n"
     ]
    }
   ],
   "source": [
    "e15 = data[(data['m2'] > 300) & (data['bathrooms'] > 2)].shape[0]\n",
    "\n",
    "print(f'O número de casas que possuem mais de 300 metros quadrados de sala de estar e mais de 2 banheiros é de {e15} casas.')"
   ]
  },
  {
   "cell_type": "code",
   "execution_count": null,
   "id": "36d74166",
   "metadata": {},
   "outputs": [],
   "source": []
  }
 ],
 "metadata": {
  "kernelspec": {
   "display_name": "Python 3 (ipykernel)",
   "language": "python",
   "name": "python3"
  },
  "language_info": {
   "codemirror_mode": {
    "name": "ipython",
    "version": 3
   },
   "file_extension": ".py",
   "mimetype": "text/x-python",
   "name": "python",
   "nbconvert_exporter": "python",
   "pygments_lexer": "ipython3",
   "version": "3.9.7"
  }
 },
 "nbformat": 4,
 "nbformat_minor": 5
}
