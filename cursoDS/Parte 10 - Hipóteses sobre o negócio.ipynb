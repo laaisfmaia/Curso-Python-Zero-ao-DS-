{
 "cells": [
  {
   "cell_type": "markdown",
   "id": "d5dd7818",
   "metadata": {},
   "source": [
    "## Algumas hipóteses sobre o negócio\n",
    "\n",
    "**H1**: Imóveis que possuem vista para água, são 3x mais caros, na média.\n",
    "\n",
    "**H2**: Imóveis com data de construção menor que 1955, são na média 50% mais baratos.\n",
    "\n",
    "**H3**: Imóveis sem porão possuem área total (sqft_lot) 40% maior do que os imóveis com porão.\n",
    "\n",
    "**H4**: O crescimento do preço dos imóveis YoY ( Year over Year ) é de 10%\n",
    "\n",
    "**H5**: Imóveis com 3 banheiros tem um crescimento MoM ( Month over Month ) de 15%\n",
    "\n",
    "\n",
    "\n",
    "\n",
    "Os dados para análise são encontrados em: https://www.kaggle.com/harlfoxem/housesalesprediction/version/1?select=kc_house_data.csv"
   ]
  },
  {
   "cell_type": "code",
   "execution_count": 114,
   "id": "f84db460",
   "metadata": {},
   "outputs": [],
   "source": [
    "import pandas as pd\n",
    "from matplotlib import pyplot as plt\n",
    "import seaborn as sns\n",
    "\n",
    "#para ter 3 casas depois da vírgula\n",
    "pd.set_option('display.float_format',lambda x: '%.3f' % x)"
   ]
  },
  {
   "cell_type": "code",
   "execution_count": 2,
   "id": "db268d9f",
   "metadata": {},
   "outputs": [
    {
     "data": {
      "text/html": [
       "<div>\n",
       "<style scoped>\n",
       "    .dataframe tbody tr th:only-of-type {\n",
       "        vertical-align: middle;\n",
       "    }\n",
       "\n",
       "    .dataframe tbody tr th {\n",
       "        vertical-align: top;\n",
       "    }\n",
       "\n",
       "    .dataframe thead th {\n",
       "        text-align: right;\n",
       "    }\n",
       "</style>\n",
       "<table border=\"1\" class=\"dataframe\">\n",
       "  <thead>\n",
       "    <tr style=\"text-align: right;\">\n",
       "      <th></th>\n",
       "      <th>id</th>\n",
       "      <th>date</th>\n",
       "      <th>price</th>\n",
       "      <th>bedrooms</th>\n",
       "      <th>bathrooms</th>\n",
       "      <th>sqft_living</th>\n",
       "      <th>sqft_lot</th>\n",
       "      <th>floors</th>\n",
       "      <th>waterfront</th>\n",
       "      <th>view</th>\n",
       "      <th>...</th>\n",
       "      <th>grade</th>\n",
       "      <th>sqft_above</th>\n",
       "      <th>sqft_basement</th>\n",
       "      <th>yr_built</th>\n",
       "      <th>yr_renovated</th>\n",
       "      <th>zipcode</th>\n",
       "      <th>lat</th>\n",
       "      <th>long</th>\n",
       "      <th>sqft_living15</th>\n",
       "      <th>sqft_lot15</th>\n",
       "    </tr>\n",
       "  </thead>\n",
       "  <tbody>\n",
       "    <tr>\n",
       "      <th>0</th>\n",
       "      <td>7129300520</td>\n",
       "      <td>20141013T000000</td>\n",
       "      <td>221900.000</td>\n",
       "      <td>3</td>\n",
       "      <td>1.000</td>\n",
       "      <td>1180</td>\n",
       "      <td>5650</td>\n",
       "      <td>1.000</td>\n",
       "      <td>0</td>\n",
       "      <td>0</td>\n",
       "      <td>...</td>\n",
       "      <td>7</td>\n",
       "      <td>1180</td>\n",
       "      <td>0</td>\n",
       "      <td>1955</td>\n",
       "      <td>0</td>\n",
       "      <td>98178</td>\n",
       "      <td>47.511</td>\n",
       "      <td>-122.257</td>\n",
       "      <td>1340</td>\n",
       "      <td>5650</td>\n",
       "    </tr>\n",
       "    <tr>\n",
       "      <th>1</th>\n",
       "      <td>6414100192</td>\n",
       "      <td>20141209T000000</td>\n",
       "      <td>538000.000</td>\n",
       "      <td>3</td>\n",
       "      <td>2.250</td>\n",
       "      <td>2570</td>\n",
       "      <td>7242</td>\n",
       "      <td>2.000</td>\n",
       "      <td>0</td>\n",
       "      <td>0</td>\n",
       "      <td>...</td>\n",
       "      <td>7</td>\n",
       "      <td>2170</td>\n",
       "      <td>400</td>\n",
       "      <td>1951</td>\n",
       "      <td>1991</td>\n",
       "      <td>98125</td>\n",
       "      <td>47.721</td>\n",
       "      <td>-122.319</td>\n",
       "      <td>1690</td>\n",
       "      <td>7639</td>\n",
       "    </tr>\n",
       "    <tr>\n",
       "      <th>2</th>\n",
       "      <td>5631500400</td>\n",
       "      <td>20150225T000000</td>\n",
       "      <td>180000.000</td>\n",
       "      <td>2</td>\n",
       "      <td>1.000</td>\n",
       "      <td>770</td>\n",
       "      <td>10000</td>\n",
       "      <td>1.000</td>\n",
       "      <td>0</td>\n",
       "      <td>0</td>\n",
       "      <td>...</td>\n",
       "      <td>6</td>\n",
       "      <td>770</td>\n",
       "      <td>0</td>\n",
       "      <td>1933</td>\n",
       "      <td>0</td>\n",
       "      <td>98028</td>\n",
       "      <td>47.738</td>\n",
       "      <td>-122.233</td>\n",
       "      <td>2720</td>\n",
       "      <td>8062</td>\n",
       "    </tr>\n",
       "    <tr>\n",
       "      <th>3</th>\n",
       "      <td>2487200875</td>\n",
       "      <td>20141209T000000</td>\n",
       "      <td>604000.000</td>\n",
       "      <td>4</td>\n",
       "      <td>3.000</td>\n",
       "      <td>1960</td>\n",
       "      <td>5000</td>\n",
       "      <td>1.000</td>\n",
       "      <td>0</td>\n",
       "      <td>0</td>\n",
       "      <td>...</td>\n",
       "      <td>7</td>\n",
       "      <td>1050</td>\n",
       "      <td>910</td>\n",
       "      <td>1965</td>\n",
       "      <td>0</td>\n",
       "      <td>98136</td>\n",
       "      <td>47.521</td>\n",
       "      <td>-122.393</td>\n",
       "      <td>1360</td>\n",
       "      <td>5000</td>\n",
       "    </tr>\n",
       "    <tr>\n",
       "      <th>4</th>\n",
       "      <td>1954400510</td>\n",
       "      <td>20150218T000000</td>\n",
       "      <td>510000.000</td>\n",
       "      <td>3</td>\n",
       "      <td>2.000</td>\n",
       "      <td>1680</td>\n",
       "      <td>8080</td>\n",
       "      <td>1.000</td>\n",
       "      <td>0</td>\n",
       "      <td>0</td>\n",
       "      <td>...</td>\n",
       "      <td>8</td>\n",
       "      <td>1680</td>\n",
       "      <td>0</td>\n",
       "      <td>1987</td>\n",
       "      <td>0</td>\n",
       "      <td>98074</td>\n",
       "      <td>47.617</td>\n",
       "      <td>-122.045</td>\n",
       "      <td>1800</td>\n",
       "      <td>7503</td>\n",
       "    </tr>\n",
       "  </tbody>\n",
       "</table>\n",
       "<p>5 rows × 21 columns</p>\n",
       "</div>"
      ],
      "text/plain": [
       "           id             date      price  bedrooms  bathrooms  sqft_living  \\\n",
       "0  7129300520  20141013T000000 221900.000         3      1.000         1180   \n",
       "1  6414100192  20141209T000000 538000.000         3      2.250         2570   \n",
       "2  5631500400  20150225T000000 180000.000         2      1.000          770   \n",
       "3  2487200875  20141209T000000 604000.000         4      3.000         1960   \n",
       "4  1954400510  20150218T000000 510000.000         3      2.000         1680   \n",
       "\n",
       "   sqft_lot  floors  waterfront  view  ...  grade  sqft_above  sqft_basement  \\\n",
       "0      5650   1.000           0     0  ...      7        1180              0   \n",
       "1      7242   2.000           0     0  ...      7        2170            400   \n",
       "2     10000   1.000           0     0  ...      6         770              0   \n",
       "3      5000   1.000           0     0  ...      7        1050            910   \n",
       "4      8080   1.000           0     0  ...      8        1680              0   \n",
       "\n",
       "   yr_built  yr_renovated  zipcode    lat     long  sqft_living15  sqft_lot15  \n",
       "0      1955             0    98178 47.511 -122.257           1340        5650  \n",
       "1      1951          1991    98125 47.721 -122.319           1690        7639  \n",
       "2      1933             0    98028 47.738 -122.233           2720        8062  \n",
       "3      1965             0    98136 47.521 -122.393           1360        5000  \n",
       "4      1987             0    98074 47.617 -122.045           1800        7503  \n",
       "\n",
       "[5 rows x 21 columns]"
      ]
     },
     "execution_count": 2,
     "metadata": {},
     "output_type": "execute_result"
    }
   ],
   "source": [
    "#load data\n",
    "data = data = pd.read_csv('datasets/kc_house_data.csv')\n",
    "data.head()"
   ]
  },
  {
   "cell_type": "markdown",
   "id": "e4fa9649",
   "metadata": {},
   "source": [
    "### H1: Imóveis que possuem vista para água, são 3x mais caros, na média."
   ]
  },
  {
   "cell_type": "markdown",
   "id": "668d0570",
   "metadata": {},
   "source": [
    "- Pegar todos os imóveis que não tem vista para a água e fazer a média de preço; \n",
    "- Depois pegar todos os imóveis com vista e também fazer a média do preço, essa média tem que ser 30% maior que a outra média para a hipótese ser verdadeira. "
   ]
  },
  {
   "cell_type": "code",
   "execution_count": 31,
   "id": "84dffeaf",
   "metadata": {},
   "outputs": [
    {
     "data": {
      "text/html": [
       "<div>\n",
       "<style scoped>\n",
       "    .dataframe tbody tr th:only-of-type {\n",
       "        vertical-align: middle;\n",
       "    }\n",
       "\n",
       "    .dataframe tbody tr th {\n",
       "        vertical-align: top;\n",
       "    }\n",
       "\n",
       "    .dataframe thead th {\n",
       "        text-align: right;\n",
       "    }\n",
       "</style>\n",
       "<table border=\"1\" class=\"dataframe\">\n",
       "  <thead>\n",
       "    <tr style=\"text-align: right;\">\n",
       "      <th></th>\n",
       "      <th>waterfront</th>\n",
       "      <th>price_mean</th>\n",
       "    </tr>\n",
       "  </thead>\n",
       "  <tbody>\n",
       "    <tr>\n",
       "      <th>0</th>\n",
       "      <td>0</td>\n",
       "      <td>531563.600</td>\n",
       "    </tr>\n",
       "    <tr>\n",
       "      <th>1</th>\n",
       "      <td>1</td>\n",
       "      <td>1661876.025</td>\n",
       "    </tr>\n",
       "  </tbody>\n",
       "</table>\n",
       "</div>"
      ],
      "text/plain": [
       "   waterfront  price_mean\n",
       "0           0  531563.600\n",
       "1           1 1661876.025"
      ]
     },
     "execution_count": 31,
     "metadata": {},
     "output_type": "execute_result"
    }
   ],
   "source": [
    "#agrupando os dados do preço em relação a vista para a água e fazendo a média dos preços de cada tipo\n",
    "waterfront_mean = data[['waterfront','price']].groupby('waterfront').mean().reset_index()\n",
    "\n",
    "#renomeando as colunas \n",
    "waterfront_mean.rename(columns = {'price': 'price_mean'}, inplace = True)\n",
    "\n",
    "waterfront_mean"
   ]
  },
  {
   "cell_type": "code",
   "execution_count": 339,
   "id": "8f08ee0a",
   "metadata": {},
   "outputs": [
    {
     "name": "stdout",
     "output_type": "stream",
     "text": [
      "A média de preços dos imóveis SEM VISTA para o água é de aproximadamente U$531563.60,\n",
      "E a média de preços dos imóveis COM VISTA para a água é de U$1661876.02.\n",
      "\n",
      "Dessa forma, nota-se que a Hipótese 1 é VERDADEIRA e os imóveis com vista para o água são cerca de 3x mais caros.\n"
     ]
    }
   ],
   "source": [
    "print(f'A média de preços dos imóveis SEM VISTA para o água é de aproximadamente U${waterfront_mean.iloc[0,1]:.2f},\\nE a média de preços dos imóveis COM VISTA para a água é de U${waterfront_mean.iloc[1,1]:.2f}.\\n\\nDessa forma, nota-se que a Hipótese 1 é VERDADEIRA e os imóveis com vista para o água são cerca de 3x mais caros.')"
   ]
  },
  {
   "cell_type": "code",
   "execution_count": 262,
   "id": "e77a5be0",
   "metadata": {},
   "outputs": [
    {
     "data": {
      "image/png": "[encoded data removed]",
      "text/plain": [
       "<Figure size 1080x576 with 1 Axes>"
      ]
     },
     "metadata": {
      "needs_background": "light"
     },
     "output_type": "display_data"
    }
   ],
   "source": [
    "#criação do gráfico\n",
    "plt.figure(figsize = (15,8))\n",
    "plot = sns.barplot(data=waterfront_mean, x='waterfront', y='price_mean',palette=\"pastel\")\n",
    "\n",
    "plt.title(\"Relationship between price and water view\")\n",
    "plt.xlabel(\"Waterfront view\")\n",
    "plt.ylabel(\"Price Mean (U$)\")\n",
    "plt.xticks(waterfront_mean['waterfront'],['No','Yes'])\n",
    "\n",
    "#criação dos valores acima das barras\n",
    "for i in plot.patches:\n",
    "    plot.annotate(format(i.get_height(), '.2f'),\n",
    "                  (i.get_x() + i.get_width() / 2, i.get_height()),\n",
    "                  ha='center',\n",
    "                  fontsize=15,\n",
    "                  xytext=(0, 1),\n",
    "                  textcoords='offset points')\n",
    "\n",
    "#salvando o gráfico como png\n",
    "plt.savefig('H1.png', format='png')"
   ]
  },
  {
   "cell_type": "markdown",
   "id": "b2f6a86c",
   "metadata": {},
   "source": [
    "### H2: Imóveis com data de construção menor que 1955, são 50% mais baratos, na média."
   ]
  },
  {
   "cell_type": "markdown",
   "id": "b5b6a8fc",
   "metadata": {},
   "source": [
    "- Separa todos os imóveis com data de construção maior que 1955 e calcula a média de preço deles. \n",
    "- Depois pega todos os imóveis com data de construção menor que 1955 e também calcula a média de preço, essa média tem que ser 50% menor que a outra média para a hipótese ser verdadeira. "
   ]
  },
  {
   "cell_type": "code",
   "execution_count": 126,
   "id": "60d2a29e",
   "metadata": {},
   "outputs": [],
   "source": [
    "#pegando os imóveis que tem data de construção maior do que 1955\n",
    "above_yr = data[data['yr_built'] > 1955][['id','yr_built','price']].sort_values('yr_built').reset_index()\n",
    "\n",
    "#pegando os imóveis que tem data de construção menor do que 1955\n",
    "under_yr = data[data['yr_built'] < 1955][['id','yr_built','price']].sort_values('yr_built').reset_index()"
   ]
  },
  {
   "cell_type": "code",
   "execution_count": 127,
   "id": "6764f3c5",
   "metadata": {},
   "outputs": [
    {
     "name": "stdout",
     "output_type": "stream",
     "text": [
      "Média de preço:\n",
      "yr_built > 1955: $542917.16\n",
      "yr_built < 1955: $537050.91\n"
     ]
    }
   ],
   "source": [
    "#calculando a média dos preços dos df\n",
    "under_mean = under_yr['price'].mean()\n",
    "\n",
    "above_mean = above_yr['price'].mean()\n",
    "\n",
    "print(f'Média de preço:\\nyr_built > 1955: ${above_mean:.2f}\\nyr_built < 1955: ${under_mean:.2f}')"
   ]
  },
  {
   "cell_type": "markdown",
   "id": "761c2942",
   "metadata": {},
   "source": [
    "Nota-se que a hipótese de que Imóveis com data de construção menor que 1955 são na média 50% mais baratos é FALSA, visto que foi constatado que os valores médios dos preços são praticamente os mesmos, variando cerca de 1%. "
   ]
  },
  {
   "cell_type": "code",
   "execution_count": 263,
   "id": "d4a64957",
   "metadata": {},
   "outputs": [
    {
     "data": {
      "image/png": "[encoded data removed]",
      "text/plain": [
       "<Figure size 1080x576 with 1 Axes>"
      ]
     },
     "metadata": {
      "needs_background": "light"
     },
     "output_type": "display_data"
    }
   ],
   "source": [
    "#criação do gráfico\n",
    "plt.figure(figsize = (15,8))\n",
    "\n",
    "x = ['After 1955','Before 1955']\n",
    "y = [above_mean, under_mean]\n",
    "plot = sns.barplot(data=data, x=x, y=y ,palette=\"pastel\")\n",
    "\n",
    "plt.title(\"Relationship between price and year built\")\n",
    "plt.xlabel(\"Year Built\")\n",
    "plt.ylabel(\"Price Mean (U$)\")\n",
    "\n",
    "#criação dos valores acima das barras\n",
    "for i in plot.patches:\n",
    "    plot.annotate(format(i.get_height(), '.2f'),\n",
    "                  (i.get_x() + i.get_width() / 2, i.get_height()),\n",
    "                  ha='center',\n",
    "                  fontsize=15,\n",
    "                  xytext=(0, 1),\n",
    "                  textcoords='offset points')\n",
    "\n",
    "#salvando o gráfico como png\n",
    "plt.savefig('H2.png', format='png')"
   ]
  },
  {
   "cell_type": "markdown",
   "id": "98b32ddb",
   "metadata": {},
   "source": [
    "### H3: Imóveis sem porão possuem área total (sqft_lot) 40% maior do que os imóveis com porão."
   ]
  },
  {
   "cell_type": "markdown",
   "id": "76c30e9e",
   "metadata": {},
   "source": [
    "- Separa todos os imóveis com porão e calcula a média da área total. \n",
    "- Depois pega todos os imóveis sem porão e também calcula a média da área, essa média tem que ser 40% maior que a outra média para a hipótese ser verdadeira. "
   ]
  },
  {
   "cell_type": "code",
   "execution_count": 189,
   "id": "6b8ba1ea",
   "metadata": {},
   "outputs": [
    {
     "name": "stdout",
     "output_type": "stream",
     "text": [
      "Média de sqft do terreno:\n",
      "Com porão: 13286.295\n",
      "Sem porão: 16284.177\n"
     ]
    }
   ],
   "source": [
    "#pegando os imóveis que tem o sqft_basement nulo e fazendo a média do valor do sqft_lot\n",
    "without_basement = data[data['sqft_basement']==0]['sqft_lot'].mean()\n",
    "\n",
    "#pegando os imóveis que tem o sqft_basement diferente de zero e fazendo a média do valor do sqft_lot\n",
    "with_basement = data[data['sqft_basement']!=0]['sqft_lot'].mean()\n",
    "\n",
    "print(f'Média de sqft do terreno:\\nCom porão: {with_basement:.3f}\\nSem porão: {without_basement:.3f}')"
   ]
  },
  {
   "cell_type": "markdown",
   "id": "3013ec74",
   "metadata": {},
   "source": [
    "Nota-se que a hipótese de que Imóveis sem porão possuem área total 40% maior do que os imóveis com porão é FALSA, visto que a área total dos imóveis sem porão é cerca de 20% maior dos que os imóveis com porão. "
   ]
  },
  {
   "cell_type": "code",
   "execution_count": 264,
   "id": "3a4e38e8",
   "metadata": {},
   "outputs": [
    {
     "data": {
      "image/png": "[encoded data removed]",
      "text/plain": [
       "<Figure size 1080x576 with 1 Axes>"
      ]
     },
     "metadata": {
      "needs_background": "light"
     },
     "output_type": "display_data"
    }
   ],
   "source": [
    "#criação do gráfico\n",
    "plt.figure(figsize = (15,8))\n",
    "\n",
    "x = ['Yes','No']\n",
    "y = [with_basement, without_basement]\n",
    "plot = sns.barplot(data=data, x=x, y=y ,palette=\"pastel\")\n",
    "\n",
    "plt.title(\"Relation of the total area of the property and the existence of a basement\")\n",
    "plt.xlabel(\"Have basement?\")\n",
    "plt.ylabel(\"Mean of total area (sqft)\")\n",
    "\n",
    "#criação dos valores acima das barras\n",
    "for i in plot.patches:\n",
    "    plot.annotate(format(i.get_height(), '.2f'),\n",
    "                  (i.get_x() + i.get_width() / 2, i.get_height()),\n",
    "                  ha='center',\n",
    "                  fontsize=15,\n",
    "                  xytext=(0, 1),\n",
    "                  textcoords='offset points')\n",
    "\n",
    "#salvando o gráfico como png\n",
    "plt.savefig('H3.png', format='png')"
   ]
  },
  {
   "cell_type": "markdown",
   "id": "89b6e793",
   "metadata": {},
   "source": [
    "### H4: O crescimento do preço dos imóveis YoY (Year over Year - comparação ano a ano) é de 10%."
   ]
  },
  {
   "cell_type": "markdown",
   "id": "57c4f0f9",
   "metadata": {},
   "source": [
    "- Olha o preço médio de um mês em um ano em comparação do preço médio do mesmo mês no outro ano, se a diferença for de 10% então a hipótese é verdadeira."
   ]
  },
  {
   "cell_type": "markdown",
   "id": "9a64f3cc",
   "metadata": {},
   "source": [
    "Os imóveis disponíveis no Dataset foram adiquiridos entre maio de 2014 e maio de 2015. Dessa forma, será feita a comparação dos valores referentes a maio/2014 com maio/2015. "
   ]
  },
  {
   "cell_type": "code",
   "execution_count": 140,
   "id": "c1005a96",
   "metadata": {},
   "outputs": [
    {
     "data": {
      "text/html": [
       "<div>\n",
       "<style scoped>\n",
       "    .dataframe tbody tr th:only-of-type {\n",
       "        vertical-align: middle;\n",
       "    }\n",
       "\n",
       "    .dataframe tbody tr th {\n",
       "        vertical-align: top;\n",
       "    }\n",
       "\n",
       "    .dataframe thead th {\n",
       "        text-align: right;\n",
       "    }\n",
       "</style>\n",
       "<table border=\"1\" class=\"dataframe\">\n",
       "  <thead>\n",
       "    <tr style=\"text-align: right;\">\n",
       "      <th></th>\n",
       "      <th>id</th>\n",
       "      <th>date</th>\n",
       "      <th>price</th>\n",
       "      <th>bedrooms</th>\n",
       "      <th>bathrooms</th>\n",
       "      <th>sqft_living</th>\n",
       "      <th>sqft_lot</th>\n",
       "      <th>floors</th>\n",
       "      <th>waterfront</th>\n",
       "      <th>view</th>\n",
       "      <th>...</th>\n",
       "      <th>sqft_basement</th>\n",
       "      <th>yr_built</th>\n",
       "      <th>yr_renovated</th>\n",
       "      <th>zipcode</th>\n",
       "      <th>lat</th>\n",
       "      <th>long</th>\n",
       "      <th>sqft_living15</th>\n",
       "      <th>sqft_lot15</th>\n",
       "      <th>month</th>\n",
       "      <th>year</th>\n",
       "    </tr>\n",
       "  </thead>\n",
       "  <tbody>\n",
       "    <tr>\n",
       "      <th>0</th>\n",
       "      <td>7129300520</td>\n",
       "      <td>2014-10-13</td>\n",
       "      <td>221900.000</td>\n",
       "      <td>3</td>\n",
       "      <td>1.000</td>\n",
       "      <td>1180</td>\n",
       "      <td>5650</td>\n",
       "      <td>1.000</td>\n",
       "      <td>0</td>\n",
       "      <td>0</td>\n",
       "      <td>...</td>\n",
       "      <td>0</td>\n",
       "      <td>1955</td>\n",
       "      <td>0</td>\n",
       "      <td>98178</td>\n",
       "      <td>47.511</td>\n",
       "      <td>-122.257</td>\n",
       "      <td>1340</td>\n",
       "      <td>5650</td>\n",
       "      <td>10</td>\n",
       "      <td>2014</td>\n",
       "    </tr>\n",
       "    <tr>\n",
       "      <th>1</th>\n",
       "      <td>6414100192</td>\n",
       "      <td>2014-12-09</td>\n",
       "      <td>538000.000</td>\n",
       "      <td>3</td>\n",
       "      <td>2.250</td>\n",
       "      <td>2570</td>\n",
       "      <td>7242</td>\n",
       "      <td>2.000</td>\n",
       "      <td>0</td>\n",
       "      <td>0</td>\n",
       "      <td>...</td>\n",
       "      <td>400</td>\n",
       "      <td>1951</td>\n",
       "      <td>1991</td>\n",
       "      <td>98125</td>\n",
       "      <td>47.721</td>\n",
       "      <td>-122.319</td>\n",
       "      <td>1690</td>\n",
       "      <td>7639</td>\n",
       "      <td>12</td>\n",
       "      <td>2014</td>\n",
       "    </tr>\n",
       "    <tr>\n",
       "      <th>2</th>\n",
       "      <td>5631500400</td>\n",
       "      <td>2015-02-25</td>\n",
       "      <td>180000.000</td>\n",
       "      <td>2</td>\n",
       "      <td>1.000</td>\n",
       "      <td>770</td>\n",
       "      <td>10000</td>\n",
       "      <td>1.000</td>\n",
       "      <td>0</td>\n",
       "      <td>0</td>\n",
       "      <td>...</td>\n",
       "      <td>0</td>\n",
       "      <td>1933</td>\n",
       "      <td>0</td>\n",
       "      <td>98028</td>\n",
       "      <td>47.738</td>\n",
       "      <td>-122.233</td>\n",
       "      <td>2720</td>\n",
       "      <td>8062</td>\n",
       "      <td>2</td>\n",
       "      <td>2015</td>\n",
       "    </tr>\n",
       "    <tr>\n",
       "      <th>3</th>\n",
       "      <td>2487200875</td>\n",
       "      <td>2014-12-09</td>\n",
       "      <td>604000.000</td>\n",
       "      <td>4</td>\n",
       "      <td>3.000</td>\n",
       "      <td>1960</td>\n",
       "      <td>5000</td>\n",
       "      <td>1.000</td>\n",
       "      <td>0</td>\n",
       "      <td>0</td>\n",
       "      <td>...</td>\n",
       "      <td>910</td>\n",
       "      <td>1965</td>\n",
       "      <td>0</td>\n",
       "      <td>98136</td>\n",
       "      <td>47.521</td>\n",
       "      <td>-122.393</td>\n",
       "      <td>1360</td>\n",
       "      <td>5000</td>\n",
       "      <td>12</td>\n",
       "      <td>2014</td>\n",
       "    </tr>\n",
       "    <tr>\n",
       "      <th>4</th>\n",
       "      <td>1954400510</td>\n",
       "      <td>2015-02-18</td>\n",
       "      <td>510000.000</td>\n",
       "      <td>3</td>\n",
       "      <td>2.000</td>\n",
       "      <td>1680</td>\n",
       "      <td>8080</td>\n",
       "      <td>1.000</td>\n",
       "      <td>0</td>\n",
       "      <td>0</td>\n",
       "      <td>...</td>\n",
       "      <td>0</td>\n",
       "      <td>1987</td>\n",
       "      <td>0</td>\n",
       "      <td>98074</td>\n",
       "      <td>47.617</td>\n",
       "      <td>-122.045</td>\n",
       "      <td>1800</td>\n",
       "      <td>7503</td>\n",
       "      <td>2</td>\n",
       "      <td>2015</td>\n",
       "    </tr>\n",
       "  </tbody>\n",
       "</table>\n",
       "<p>5 rows × 23 columns</p>\n",
       "</div>"
      ],
      "text/plain": [
       "           id       date      price  bedrooms  bathrooms  sqft_living  \\\n",
       "0  7129300520 2014-10-13 221900.000         3      1.000         1180   \n",
       "1  6414100192 2014-12-09 538000.000         3      2.250         2570   \n",
       "2  5631500400 2015-02-25 180000.000         2      1.000          770   \n",
       "3  2487200875 2014-12-09 604000.000         4      3.000         1960   \n",
       "4  1954400510 2015-02-18 510000.000         3      2.000         1680   \n",
       "\n",
       "   sqft_lot  floors  waterfront  view  ...  sqft_basement  yr_built  \\\n",
       "0      5650   1.000           0     0  ...              0      1955   \n",
       "1      7242   2.000           0     0  ...            400      1951   \n",
       "2     10000   1.000           0     0  ...              0      1933   \n",
       "3      5000   1.000           0     0  ...            910      1965   \n",
       "4      8080   1.000           0     0  ...              0      1987   \n",
       "\n",
       "   yr_renovated  zipcode    lat     long  sqft_living15  sqft_lot15  month  \\\n",
       "0             0    98178 47.511 -122.257           1340        5650     10   \n",
       "1          1991    98125 47.721 -122.319           1690        7639     12   \n",
       "2             0    98028 47.738 -122.233           2720        8062      2   \n",
       "3             0    98136 47.521 -122.393           1360        5000     12   \n",
       "4             0    98074 47.617 -122.045           1800        7503      2   \n",
       "\n",
       "   year  \n",
       "0  2014  \n",
       "1  2014  \n",
       "2  2015  \n",
       "3  2014  \n",
       "4  2015  \n",
       "\n",
       "[5 rows x 23 columns]"
      ]
     },
     "execution_count": 140,
     "metadata": {},
     "output_type": "execute_result"
    }
   ],
   "source": [
    "#transformar a coluna 'date' para o tipo datetime\n",
    "data['date'] = pd.to_datetime(data['date'])\n",
    "\n",
    "#criando uma nova coluna chamada 'month' e 'year' contendo somente os respectivos mêses e anos da coluna 'date'\n",
    "data['month'] = data['date'].dt.month\n",
    "data['year'] = data['date'].dt.year\n",
    "data.head()"
   ]
  },
  {
   "cell_type": "code",
   "execution_count": 141,
   "id": "9061ae52",
   "metadata": {},
   "outputs": [
    {
     "data": {
      "text/html": [
       "<div>\n",
       "<style scoped>\n",
       "    .dataframe tbody tr th:only-of-type {\n",
       "        vertical-align: middle;\n",
       "    }\n",
       "\n",
       "    .dataframe tbody tr th {\n",
       "        vertical-align: top;\n",
       "    }\n",
       "\n",
       "    .dataframe thead th {\n",
       "        text-align: right;\n",
       "    }\n",
       "</style>\n",
       "<table border=\"1\" class=\"dataframe\">\n",
       "  <thead>\n",
       "    <tr style=\"text-align: right;\">\n",
       "      <th></th>\n",
       "      <th></th>\n",
       "      <th>price_mean</th>\n",
       "    </tr>\n",
       "    <tr>\n",
       "      <th>year</th>\n",
       "      <th>month</th>\n",
       "      <th></th>\n",
       "    </tr>\n",
       "  </thead>\n",
       "  <tbody>\n",
       "    <tr>\n",
       "      <th rowspan=\"8\" valign=\"top\">2014</th>\n",
       "      <th>5</th>\n",
       "      <td>548080.277</td>\n",
       "    </tr>\n",
       "    <tr>\n",
       "      <th>6</th>\n",
       "      <td>558002.200</td>\n",
       "    </tr>\n",
       "    <tr>\n",
       "      <th>7</th>\n",
       "      <td>544788.764</td>\n",
       "    </tr>\n",
       "    <tr>\n",
       "      <th>8</th>\n",
       "      <td>536445.277</td>\n",
       "    </tr>\n",
       "    <tr>\n",
       "      <th>9</th>\n",
       "      <td>529253.822</td>\n",
       "    </tr>\n",
       "    <tr>\n",
       "      <th>10</th>\n",
       "      <td>539026.972</td>\n",
       "    </tr>\n",
       "    <tr>\n",
       "      <th>11</th>\n",
       "      <td>521961.009</td>\n",
       "    </tr>\n",
       "    <tr>\n",
       "      <th>12</th>\n",
       "      <td>524461.867</td>\n",
       "    </tr>\n",
       "    <tr>\n",
       "      <th rowspan=\"5\" valign=\"top\">2015</th>\n",
       "      <th>1</th>\n",
       "      <td>525870.890</td>\n",
       "    </tr>\n",
       "    <tr>\n",
       "      <th>2</th>\n",
       "      <td>507851.371</td>\n",
       "    </tr>\n",
       "    <tr>\n",
       "      <th>3</th>\n",
       "      <td>543977.187</td>\n",
       "    </tr>\n",
       "    <tr>\n",
       "      <th>4</th>\n",
       "      <td>561837.775</td>\n",
       "    </tr>\n",
       "    <tr>\n",
       "      <th>5</th>\n",
       "      <td>558126.811</td>\n",
       "    </tr>\n",
       "  </tbody>\n",
       "</table>\n",
       "</div>"
      ],
      "text/plain": [
       "            price_mean\n",
       "year month            \n",
       "2014 5      548080.277\n",
       "     6      558002.200\n",
       "     7      544788.764\n",
       "     8      536445.277\n",
       "     9      529253.822\n",
       "     10     539026.972\n",
       "     11     521961.009\n",
       "     12     524461.867\n",
       "2015 1      525870.890\n",
       "     2      507851.371\n",
       "     3      543977.187\n",
       "     4      561837.775\n",
       "     5      558126.811"
      ]
     },
     "execution_count": 141,
     "metadata": {},
     "output_type": "execute_result"
    }
   ],
   "source": [
    "#agrupando os dados do preço em relação ao ano e ao mês\n",
    "df = data[['price','year','month']].groupby(['year','month']).mean()\n",
    "\n",
    "#renomeando a coluna de preço\n",
    "df.rename(columns = {'price':'price_mean'}, inplace = True)\n",
    "df"
   ]
  },
  {
   "cell_type": "code",
   "execution_count": 142,
   "id": "449cc3a3",
   "metadata": {},
   "outputs": [
    {
     "name": "stdout",
     "output_type": "stream",
     "text": [
      "Média do preço dos imóveis por ano:\n",
      "Maio/2014: $548080.28\n",
      "Maio/2015: $558126.81\n"
     ]
    }
   ],
   "source": [
    "print(f'Média do preço dos imóveis por ano:\\nMaio/2014: ${df.iloc[0,0]:.2f}\\nMaio/2015: ${df.iloc[-1,0]:.2f}')"
   ]
  },
  {
   "cell_type": "markdown",
   "id": "eb28fdfa",
   "metadata": {},
   "source": [
    "Nota-se que a hipótese de que O crescimento do preço dos imóveis YoY (Year over Year - comparação ano a ano) é de 10% é FALSA, visto que os valores médios dos preços entre os dois anos variam cerca de 2%. "
   ]
  },
  {
   "cell_type": "code",
   "execution_count": 265,
   "id": "a5468295",
   "metadata": {},
   "outputs": [
    {
     "data": {
      "image/png": "[encoded data removed]",
      "text/plain": [
       "<Figure size 1080x576 with 1 Axes>"
      ]
     },
     "metadata": {
      "needs_background": "light"
     },
     "output_type": "display_data"
    }
   ],
   "source": [
    "#criação do gráfico\n",
    "plt.figure(figsize = (15,8))\n",
    "\n",
    "x = ['May/2014','May/2015']\n",
    "y = [df.iloc[0,0], df.iloc[-1,0]]\n",
    "plot = sns.barplot(data=data, x=x, y=y ,palette=\"pastel\")\n",
    "\n",
    "plt.title(\"Relationship between price and year\")\n",
    "plt.xlabel(\"Month/Year\")\n",
    "plt.ylabel(\"Price Mean (U$)\")\n",
    "\n",
    "#criação dos valores acima das barras\n",
    "for i in plot.patches:\n",
    "    plot.annotate(format(i.get_height(), '.2f'),\n",
    "                  (i.get_x() + i.get_width() / 2, i.get_height()),\n",
    "                  ha='center',\n",
    "                  fontsize=15,\n",
    "                  xytext=(0, 1),\n",
    "                  textcoords='offset points')\n",
    "\n",
    "#salvando o gráfico como png\n",
    "plt.savefig('H4.png', format='png')"
   ]
  },
  {
   "cell_type": "markdown",
   "id": "5ed2d942",
   "metadata": {},
   "source": [
    "### H5: Imóveis com 3 banheiros tem um crescimento MoM ( Month over Month - comparação mês a mês ) de 15%."
   ]
  },
  {
   "cell_type": "markdown",
   "id": "33932b14",
   "metadata": {},
   "source": [
    "- Separar os imóveis com 3 banheiros e olhar o preço médio em janeiro de um ano em comparação ao preço médio de fevereiro do mesmo ano, se a diferença for de 15% então a hipótese é verdadeira.\n",
    "- Fazer um gráfico comparando esse crescimento nos meses subsequentes. Por exemplo, calcular do mês de jan e fev, mar e abril, maio junho e fazer um gráfico."
   ]
  },
  {
   "cell_type": "code",
   "execution_count": 148,
   "id": "aad986f8",
   "metadata": {},
   "outputs": [],
   "source": [
    "#transformar a coluna 'date' para o tipo datetime\n",
    "data['date'] = pd.to_datetime(data['date'])\n",
    "\n",
    "#criando uma nova coluna chamada 'month' e 'year' contendo somente os respectivos mêses e anos da coluna 'date'\n",
    "data['month'] = data['date'].dt.month\n",
    "data['year'] = data['date'].dt.year"
   ]
  },
  {
   "cell_type": "code",
   "execution_count": 149,
   "id": "ff66ef9c",
   "metadata": {},
   "outputs": [],
   "source": [
    "#dataframe com os imóveis com três banheiros\n",
    "data_three_bath = data[data['bathrooms']==3].reset_index()"
   ]
  },
  {
   "cell_type": "code",
   "execution_count": 185,
   "id": "e688ffbf",
   "metadata": {},
   "outputs": [
    {
     "data": {
      "text/html": [
       "<div>\n",
       "<style scoped>\n",
       "    .dataframe tbody tr th:only-of-type {\n",
       "        vertical-align: middle;\n",
       "    }\n",
       "\n",
       "    .dataframe tbody tr th {\n",
       "        vertical-align: top;\n",
       "    }\n",
       "\n",
       "    .dataframe thead th {\n",
       "        text-align: right;\n",
       "    }\n",
       "</style>\n",
       "<table border=\"1\" class=\"dataframe\">\n",
       "  <thead>\n",
       "    <tr style=\"text-align: right;\">\n",
       "      <th></th>\n",
       "      <th></th>\n",
       "      <th>price_mean</th>\n",
       "    </tr>\n",
       "    <tr>\n",
       "      <th>year</th>\n",
       "      <th>month</th>\n",
       "      <th></th>\n",
       "    </tr>\n",
       "  </thead>\n",
       "  <tbody>\n",
       "    <tr>\n",
       "      <th rowspan=\"8\" valign=\"top\">2014</th>\n",
       "      <th>5</th>\n",
       "      <td>690080.714</td>\n",
       "    </tr>\n",
       "    <tr>\n",
       "      <th>6</th>\n",
       "      <td>775057.564</td>\n",
       "    </tr>\n",
       "    <tr>\n",
       "      <th>7</th>\n",
       "      <td>741405.043</td>\n",
       "    </tr>\n",
       "    <tr>\n",
       "      <th>8</th>\n",
       "      <td>737576.562</td>\n",
       "    </tr>\n",
       "    <tr>\n",
       "      <th>9</th>\n",
       "      <td>645246.887</td>\n",
       "    </tr>\n",
       "    <tr>\n",
       "      <th>10</th>\n",
       "      <td>645523.015</td>\n",
       "    </tr>\n",
       "    <tr>\n",
       "      <th>11</th>\n",
       "      <td>679910.465</td>\n",
       "    </tr>\n",
       "    <tr>\n",
       "      <th>12</th>\n",
       "      <td>728341.188</td>\n",
       "    </tr>\n",
       "    <tr>\n",
       "      <th rowspan=\"5\" valign=\"top\">2015</th>\n",
       "      <th>1</th>\n",
       "      <td>672923.171</td>\n",
       "    </tr>\n",
       "    <tr>\n",
       "      <th>2</th>\n",
       "      <td>696714.422</td>\n",
       "    </tr>\n",
       "    <tr>\n",
       "      <th>3</th>\n",
       "      <td>768495.096</td>\n",
       "    </tr>\n",
       "    <tr>\n",
       "      <th>4</th>\n",
       "      <td>709751.988</td>\n",
       "    </tr>\n",
       "    <tr>\n",
       "      <th>5</th>\n",
       "      <td>686351.950</td>\n",
       "    </tr>\n",
       "  </tbody>\n",
       "</table>\n",
       "</div>"
      ],
      "text/plain": [
       "            price_mean\n",
       "year month            \n",
       "2014 5      690080.714\n",
       "     6      775057.564\n",
       "     7      741405.043\n",
       "     8      737576.562\n",
       "     9      645246.887\n",
       "     10     645523.015\n",
       "     11     679910.465\n",
       "     12     728341.188\n",
       "2015 1      672923.171\n",
       "     2      696714.422\n",
       "     3      768495.096\n",
       "     4      709751.988\n",
       "     5      686351.950"
      ]
     },
     "execution_count": 185,
     "metadata": {},
     "output_type": "execute_result"
    }
   ],
   "source": [
    "#agrupando os dados do preço em relação ao ano e ao mês\n",
    "df2 = data_three_bath[['price','year','month']].groupby(['year','month']).mean()\n",
    "\n",
    "#renomeando a coluna de preço\n",
    "df2.rename(columns = {'price':'price_mean'}, inplace = True)\n",
    "df2"
   ]
  },
  {
   "cell_type": "code",
   "execution_count": 186,
   "id": "d4f8adc2",
   "metadata": {},
   "outputs": [
    {
     "name": "stdout",
     "output_type": "stream",
     "text": [
      "Média do preço dos imóveis por mês no ano:\n",
      "\n",
      "Ano:2014; Mês:5 -> $690080.71\n",
      "Ano:2014; Mês:6 -> $775057.56\n",
      "Ano:2014; Mês:7 -> $741405.04\n",
      "Ano:2014; Mês:8 -> $737576.56\n",
      "Ano:2014; Mês:9 -> $645246.89\n",
      "Ano:2014; Mês:10 -> $645523.02\n",
      "Ano:2014; Mês:11 -> $679910.47\n",
      "Ano:2014; Mês:12 -> $728341.19\n",
      "Ano:2015; Mês:1 -> $672923.17\n",
      "Ano:2015; Mês:2 -> $696714.42\n",
      "Ano:2015; Mês:3 -> $768495.10\n",
      "Ano:2015; Mês:4 -> $709751.99\n",
      "Ano:2015; Mês:5 -> $686351.95\n"
     ]
    }
   ],
   "source": [
    "print('Média do preço dos imóveis por mês no ano:\\n')\n",
    "for i in range(len(df2)):\n",
    "    print(f'Ano:{df2.index[i][0]}; Mês:{df2.index[i][1]} -> ${df2.iloc[i,0]:.2f}')"
   ]
  },
  {
   "cell_type": "code",
   "execution_count": 338,
   "id": "bdc2048c",
   "metadata": {},
   "outputs": [
    {
     "data": {
      "image/png": "[encoded data removed]",
      "text/plain": [
       "<Figure size 1080x576 with 1 Axes>"
      ]
     },
     "metadata": {
      "needs_background": "light"
     },
     "output_type": "display_data"
    }
   ],
   "source": [
    "#criação do gráfico\n",
    "plt.figure(figsize = (15,8))\n",
    "\n",
    "x = list(range(0,13))\n",
    "y = df2['price_mean']\n",
    "plot = sns.barplot(data=data, x=x, y=y ,palette=\"pastel\")\n",
    "\n",
    "plt.title(\"Month-to-month price variation of properties with 3 bathrooms\")\n",
    "plt.xlabel(\"Year/Month\")\n",
    "plt.ylabel(\"Price Mean (U$)\")\n",
    "plt.xticks(x,['2014/5','2014/6','2014/7','2014/8','2014/9','2014/10','2014/11','2014/12','2015/1','2015/2','2015/3','2015/4','2015/5'])\n",
    "\n",
    "#criação dos valores acima das barras\n",
    "for i in plot.patches:\n",
    "    plot.annotate(format(i.get_height(), '.2f'),\n",
    "                  (i.get_x() + i.get_width() / 2, i.get_height()),\n",
    "                  ha='center',\n",
    "                  xytext=(0, 1),\n",
    "                  textcoords='offset points')\n",
    "    \n",
    "#salvando o gráfico como png\n",
    "plt.savefig('H5.1.png', format='png')"
   ]
  },
  {
   "cell_type": "code",
   "execution_count": 279,
   "id": "f9c66694",
   "metadata": {},
   "outputs": [
    {
     "name": "stdout",
     "output_type": "stream",
     "text": [
      "[12.314045017879868, -4.341938302916555, -0.5163817530009102, -12.517978454074905, 0.042794135546576184, 5.327067998759523, 7.123102947891563, -7.60879896941056, 3.5355078447730177, 10.302739780048496, -7.643914478120775, -3.296931692079555]\n"
     ]
    }
   ],
   "source": [
    "#calculo da diferença entre os preços de cada mês e respectivo porcentagem\n",
    "lista = []\n",
    "porcen = []\n",
    "\n",
    "for i in range(len(df2)-1):\n",
    "    dif = df2.iloc[i+1,0] - df2.iloc[i,0]\n",
    "    lista.append(dif)\n",
    "\n",
    "    x= (dif*100)/df2.iloc[i,0]\n",
    "    porcen.append(x)\n",
    "\n",
    "print(porcen)"
   ]
  },
  {
   "cell_type": "code",
   "execution_count": 337,
   "id": "90999941",
   "metadata": {},
   "outputs": [
    {
     "data": {
      "image/png": "[encoded data removed]",
      "text/plain": [
       "<Figure size 1080x576 with 1 Axes>"
      ]
     },
     "metadata": {
      "needs_background": "light"
     },
     "output_type": "display_data"
    }
   ],
   "source": [
    "#criação do gráfico\n",
    "plt.figure(figsize = (15,8))\n",
    "\n",
    "x = list(range(0,12))\n",
    "y = porcen\n",
    "plot = sns.barplot(data= data, x=x, y=y ,palette=\"pastel\")\n",
    "#plot = plt.bar(x=x,height=y)\n",
    "\n",
    "plt.title(\"Percentage of month-to-month price change for properties with 3 bathrooms\")\n",
    "plt.xlabel(\"Year/Months\")\n",
    "plt.ylabel(\"Percentage of change (%)\")\n",
    "#plt.plot(np.mean(porcen))\n",
    "plt.xticks(x,['2014/(5-6)','2014/(6-7)','2014(7-8)','2014/(8-9)','2014/(9-10)','2014/(10-11)','2014/(11-12)','2014/(12-1)','2015/(1-2)','2015/(2-3)','2015/(3-4)','2015/(4-5)'])\n",
    "\n",
    "plt.axhline(y=np.mean(porcen), color = 'black')\n",
    "plt.legend(labels=[\"Porcentagem média = 0.23% \"])\n",
    "\n",
    "#criação dos valores acima das barras\n",
    "for i in plot.patches:\n",
    "    plot.annotate(format(i.get_height(), '.1f'),\n",
    "                  (i.get_x() + i.get_width() / 2, i.get_height()),\n",
    "                  fontsize=15,\n",
    "                  ha='center',\n",
    "                  xytext=(0, 1),\n",
    "                  textcoords='offset points')\n",
    "\n",
    "#salvando o gráfico como png\n",
    "plt.savefig('H5.2.png', format='png')"
   ]
  },
  {
   "cell_type": "markdown",
   "id": "6b21019c",
   "metadata": {},
   "source": [
    " Nota-se que o crescimento do preço dos imóveis varia de mês em mês. Podendo chegar a um acréscimo de cerca de 12% assim como uma diminuição de 12%. Dessa forma, percebe-se que a hipótese de que os Imóveis com 3 banheiros tem um crescimento MoM ( Month over Month - comparação mês a mês ) de 15% é FALSA, sendo que a porcentagem média de acréscimo durante o período contabilizado é de cerca de 0.23%."
   ]
  },
  {
   "cell_type": "code",
   "execution_count": null,
   "id": "e8e3b125",
   "metadata": {},
   "outputs": [],
   "source": []
  }
 ],
 "metadata": {
  "kernelspec": {
   "display_name": "Python 3 (ipykernel)",
   "language": "python",
   "name": "python3"
  },
  "language_info": {
   "codemirror_mode": {
    "name": "ipython",
    "version": 3
   },
   "file_extension": ".py",
   "mimetype": "text/x-python",
   "name": "python",
   "nbconvert_exporter": "python",
   "pygments_lexer": "ipython3",
   "version": "3.9.7"
  }
 },
 "nbformat": 4,
 "nbformat_minor": 5
}
